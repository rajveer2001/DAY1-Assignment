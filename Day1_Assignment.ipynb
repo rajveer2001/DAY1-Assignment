{
  "nbformat": 4,
  "nbformat_minor": 0,
  "metadata": {
    "colab": {
      "name": "Day1 Assignment.ipynb",
      "provenance": []
    },
    "kernelspec": {
      "name": "python3",
      "display_name": "Python 3"
    },
    "language_info": {
      "name": "python"
    }
  },
  "cells": [
    {
      "cell_type": "code",
      "metadata": {
        "colab": {
          "base_uri": "https://localhost:8080/"
        },
        "id": "8PTFUxUC4CF3",
        "outputId": "87bef7ba-ef4d-4064-a7f4-9568105cbc30"
      },
      "source": [
        "x = int(input(\"Enter the value of x:\"))\n",
        "y = int(input(\"Enter the value of y:\"))\n",
        "z = x**y\n",
        "print(\"x to the power y is\",z)"
      ],
      "execution_count": 2,
      "outputs": [
        {
          "output_type": "stream",
          "text": [
            "Enter the value of x:2\n",
            "Enter the value of y:5\n",
            "x to the power y is 32\n"
          ],
          "name": "stdout"
        }
      ]
    },
    {
      "cell_type": "code",
      "metadata": {
        "id": "gXZAqqZJ4sfN"
      },
      "source": [
        ""
      ],
      "execution_count": null,
      "outputs": []
    }
  ]
}